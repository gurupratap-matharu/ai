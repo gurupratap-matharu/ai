{
 "cells": [
  {
   "cell_type": "markdown",
   "id": "e5af159b",
   "metadata": {},
   "source": [
    "# imdb Movie Reviews Classification"
   ]
  },
  {
   "cell_type": "markdown",
   "id": "a0aaea22",
   "metadata": {},
   "source": [
    "#### Notebook Configurations"
   ]
  },
  {
   "cell_type": "markdown",
   "id": "969f58b1",
   "metadata": {},
   "source": [
    "#### Library Imports"
   ]
  },
  {
   "cell_type": "code",
   "execution_count": 184,
   "id": "51020977",
   "metadata": {},
   "outputs": [],
   "source": [
    "import random\n",
    "import numpy as np\n",
    "import matplotlib.pyplot as plt\n",
    "\n",
    "from keras.datasets import imdb"
   ]
  },
  {
   "cell_type": "markdown",
   "id": "456215d3",
   "metadata": {},
   "source": [
    "#### Load dataset"
   ]
  },
  {
   "cell_type": "code",
   "execution_count": 5,
   "id": "a7fc29e6",
   "metadata": {},
   "outputs": [],
   "source": [
    "(train_data, train_labels), (test_data, test_labels) = imdb.load_data(num_words=10000)"
   ]
  },
  {
   "cell_type": "markdown",
   "id": "e9b5d324",
   "metadata": {},
   "source": [
    "#### Decode any review"
   ]
  },
  {
   "cell_type": "code",
   "execution_count": 22,
   "id": "a31ed2f3",
   "metadata": {},
   "outputs": [],
   "source": [
    "word_index = imdb.get_word_index()\n",
    "\n",
    "reverse_word_index = {v: k for k, v in word_index.items()}\n",
    "\n",
    "\n",
    "def decode_review(review):\n",
    "    \"\"\"Convert a review from integers to words\"\"\"\n",
    "\n",
    "    return \" \".join(reverse_word_index.get(word) for word in review)"
   ]
  },
  {
   "cell_type": "code",
   "execution_count": 40,
   "id": "9bceebd0",
   "metadata": {},
   "outputs": [
    {
     "data": {
      "text/plain": [
       "'the effort still been that usually makes for of finished sucking ended and an because before if just though something know novel female i i slowly lot of above and with connect in of script their that out end his and i i'"
      ]
     },
     "execution_count": 40,
     "metadata": {},
     "output_type": "execute_result"
    }
   ],
   "source": [
    "decode_review(train_data[5])"
   ]
  },
  {
   "cell_type": "markdown",
   "id": "4577fb7c",
   "metadata": {},
   "source": [
    "#### Vectorize Data\n",
    "\n",
    "Out train and test data is an array of integers which we cannot feed to our neural network.\n",
    "So we need to convert the data to `tensors` which a neural network will understand.\n",
    "Let's OneHot encode our data so each datapoint has a fix width of `10000` with `1`'s in places where a common word exists and `0` otherwise."
   ]
  },
  {
   "cell_type": "code",
   "execution_count": 64,
   "id": "9c364643",
   "metadata": {},
   "outputs": [],
   "source": [
    "def vectorize_sequences(sequences, dimension=10000):\n",
    "    \"\"\"One Hot encodes the imdb data so integers are mapped to 0 and 1\"\"\"\n",
    "\n",
    "    results = np.zeros((len(sequences), dimension))\n",
    "\n",
    "    for i, sequence in enumerate(sequences):\n",
    "        results[i, sequence] = 1.0\n",
    "\n",
    "    return results"
   ]
  },
  {
   "cell_type": "code",
   "execution_count": 160,
   "id": "ff7d20ea",
   "metadata": {},
   "outputs": [],
   "source": [
    "x_train = vectorize_sequences(train_data)\n",
    "x_test = vectorize_sequences(test_data)"
   ]
  },
  {
   "cell_type": "markdown",
   "id": "77e93d19",
   "metadata": {},
   "source": [
    "On a similar note out labels need to be vectorized as well"
   ]
  },
  {
   "cell_type": "code",
   "execution_count": 75,
   "id": "0370253c",
   "metadata": {},
   "outputs": [],
   "source": [
    "y_train = np.asarray(train_labels).astype(\"float32\")\n",
    "y_test = np.asarray(test_labels).astype(\"float32\")"
   ]
  },
  {
   "cell_type": "markdown",
   "id": "a2c0210a",
   "metadata": {},
   "source": [
    "#### Model Definition\n",
    "\n",
    "We have inputs as vectors and labels as scalars. They type of network that works best for such type of problems is a simple stack of fully connected (dense) layers with `relu` activations. We will use \n",
    "- two intermediate layers with `16 hidden units` each having `relu` activation\n",
    "- a third layer that will output a `scalar` prediction having `sigmoid` activation"
   ]
  },
  {
   "cell_type": "code",
   "execution_count": 78,
   "id": "fbacd0b4",
   "metadata": {},
   "outputs": [],
   "source": [
    "from keras import models\n",
    "from keras import layers"
   ]
  },
  {
   "cell_type": "code",
   "execution_count": 115,
   "id": "19cd3f04",
   "metadata": {},
   "outputs": [],
   "source": [
    "model = models.Sequential()\n",
    "model.add(layers.Dense(16, activation=\"relu\", input_shape=(10000,)))\n",
    "model.add(layers.Dense(16, activation=\"relu\"))\n",
    "model.add(layers.Dense(1, activation=\"sigmoid\"))"
   ]
  },
  {
   "cell_type": "markdown",
   "id": "3372080f",
   "metadata": {},
   "source": [
    "#### Compiling the Model"
   ]
  },
  {
   "cell_type": "code",
   "execution_count": 116,
   "id": "7959e9aa",
   "metadata": {},
   "outputs": [],
   "source": [
    "model.compile(optimizer=\"rmsprop\", loss=\"binary_crossentropy\", metrics=[\"accuracy\"])"
   ]
  },
  {
   "cell_type": "markdown",
   "id": "eb1fa003",
   "metadata": {},
   "source": [
    "#### Validation\n",
    "\n",
    "Let's create a validation set by setting apart `10000` samples from the original training data"
   ]
  },
  {
   "cell_type": "code",
   "execution_count": 117,
   "id": "4c43c2c3",
   "metadata": {},
   "outputs": [],
   "source": [
    "x_val, y_val = x_train[:10000], y_train[:10000]\n",
    "\n",
    "partial_x_train, partial_y_train = x_train[10000:], y_train[10000:]"
   ]
  },
  {
   "cell_type": "markdown",
   "id": "b05e16e6",
   "metadata": {},
   "source": [
    "#### Train"
   ]
  },
  {
   "cell_type": "code",
   "execution_count": 118,
   "id": "2dec1ba4",
   "metadata": {},
   "outputs": [
    {
     "name": "stdout",
     "output_type": "stream",
     "text": [
      "Epoch 1/20\n",
      "30/30 [==============================] - 1s 27ms/step - loss: 0.5213 - accuracy: 0.7756 - val_loss: 0.4014 - val_accuracy: 0.8628\n",
      "Epoch 2/20\n",
      "30/30 [==============================] - 0s 12ms/step - loss: 0.3154 - accuracy: 0.9019 - val_loss: 0.3150 - val_accuracy: 0.8843\n",
      "Epoch 3/20\n",
      "30/30 [==============================] - 0s 12ms/step - loss: 0.2313 - accuracy: 0.9269 - val_loss: 0.2880 - val_accuracy: 0.8882\n",
      "Epoch 4/20\n",
      "30/30 [==============================] - 0s 12ms/step - loss: 0.1857 - accuracy: 0.9401 - val_loss: 0.2752 - val_accuracy: 0.8909\n",
      "Epoch 5/20\n",
      "30/30 [==============================] - 0s 12ms/step - loss: 0.1533 - accuracy: 0.9509 - val_loss: 0.2772 - val_accuracy: 0.8880\n",
      "Epoch 6/20\n",
      "30/30 [==============================] - 0s 12ms/step - loss: 0.1253 - accuracy: 0.9620 - val_loss: 0.3117 - val_accuracy: 0.8790\n",
      "Epoch 7/20\n",
      "30/30 [==============================] - 0s 12ms/step - loss: 0.1037 - accuracy: 0.9695 - val_loss: 0.3053 - val_accuracy: 0.8853\n",
      "Epoch 8/20\n",
      "30/30 [==============================] - 0s 12ms/step - loss: 0.0844 - accuracy: 0.9769 - val_loss: 0.3258 - val_accuracy: 0.8777\n",
      "Epoch 9/20\n",
      "30/30 [==============================] - 0s 12ms/step - loss: 0.0697 - accuracy: 0.9811 - val_loss: 0.4032 - val_accuracy: 0.8681\n",
      "Epoch 10/20\n",
      "30/30 [==============================] - 0s 12ms/step - loss: 0.0580 - accuracy: 0.9857 - val_loss: 0.3668 - val_accuracy: 0.8789\n",
      "Epoch 11/20\n",
      "30/30 [==============================] - 0s 12ms/step - loss: 0.0460 - accuracy: 0.9888 - val_loss: 0.3889 - val_accuracy: 0.8760\n",
      "Epoch 12/20\n",
      "30/30 [==============================] - 0s 12ms/step - loss: 0.0373 - accuracy: 0.9919 - val_loss: 0.4721 - val_accuracy: 0.8700\n",
      "Epoch 13/20\n",
      "30/30 [==============================] - 0s 12ms/step - loss: 0.0284 - accuracy: 0.9949 - val_loss: 0.4774 - val_accuracy: 0.8619\n",
      "Epoch 14/20\n",
      "30/30 [==============================] - 0s 12ms/step - loss: 0.0251 - accuracy: 0.9952 - val_loss: 0.4890 - val_accuracy: 0.8725\n",
      "Epoch 15/20\n",
      "30/30 [==============================] - 0s 12ms/step - loss: 0.0179 - accuracy: 0.9979 - val_loss: 0.5011 - val_accuracy: 0.8719\n",
      "Epoch 16/20\n",
      "30/30 [==============================] - 0s 12ms/step - loss: 0.0142 - accuracy: 0.9987 - val_loss: 0.5550 - val_accuracy: 0.8631\n",
      "Epoch 17/20\n",
      "30/30 [==============================] - 0s 12ms/step - loss: 0.0114 - accuracy: 0.9987 - val_loss: 0.5698 - val_accuracy: 0.8696\n",
      "Epoch 18/20\n",
      "30/30 [==============================] - 0s 12ms/step - loss: 0.0097 - accuracy: 0.9984 - val_loss: 0.5979 - val_accuracy: 0.8677\n",
      "Epoch 19/20\n",
      "30/30 [==============================] - 0s 12ms/step - loss: 0.0053 - accuracy: 0.9997 - val_loss: 0.6907 - val_accuracy: 0.8645\n",
      "Epoch 20/20\n",
      "30/30 [==============================] - 0s 12ms/step - loss: 0.0079 - accuracy: 0.9985 - val_loss: 0.6715 - val_accuracy: 0.8681\n",
      "CPU times: user 33 s, sys: 9.15 s, total: 42.2 s\n",
      "Wall time: 8.49 s\n"
     ]
    }
   ],
   "source": [
    "%%time\n",
    "\n",
    "history = model.fit(\n",
    "    x=partial_x_train,\n",
    "    y=partial_y_train,\n",
    "    epochs=20,\n",
    "    batch_size=512,\n",
    "    validation_data=(x_val, y_val),\n",
    ")"
   ]
  },
  {
   "cell_type": "markdown",
   "id": "d5190c87",
   "metadata": {},
   "source": [
    "#### Plot training and validation loss"
   ]
  },
  {
   "cell_type": "code",
   "execution_count": 150,
   "id": "41c1eb25",
   "metadata": {},
   "outputs": [],
   "source": [
    "history_dict = history.history\n",
    "\n",
    "acc = history_dict[\"accuracy\"]\n",
    "val_acc = history_dict[\"val_accuracy\"]\n",
    "\n",
    "loss_values = history_dict[\"loss\"]\n",
    "val_loss_values = history_dict[\"val_loss\"]\n",
    "\n",
    "epochs = range(1, len(acc) + 1)"
   ]
  },
  {
   "cell_type": "code",
   "execution_count": 156,
   "id": "6c08acca",
   "metadata": {},
   "outputs": [
    {
     "data": {
      "image/png": "[encoded data removed]",
      "text/plain": [
       "<Figure size 432x288 with 1 Axes>"
      ]
     },
     "metadata": {
      "needs_background": "light"
     },
     "output_type": "display_data"
    }
   ],
   "source": [
    "plt.plot(epochs, loss_values, label=\"Training loss\")\n",
    "plt.plot(epochs, val_loss_values, label=\"Validation loss\")\n",
    "\n",
    "plt.title(\"Training and Validation loss\")\n",
    "plt.xlabel(\"Epochs\")\n",
    "plt.ylabel(\"Loss\")\n",
    "plt.legend()\n",
    "\n",
    "plt.show()"
   ]
  },
  {
   "cell_type": "markdown",
   "id": "ae3b7ab3",
   "metadata": {},
   "source": [
    "#### Plot Training Vs Validation Accuracy"
   ]
  },
  {
   "cell_type": "code",
   "execution_count": 155,
   "id": "966251c0",
   "metadata": {},
   "outputs": [
    {
     "data": {
      "image/png": "[encoded data removed]",
      "text/plain": [
       "<Figure size 432x288 with 1 Axes>"
      ]
     },
     "metadata": {
      "needs_background": "light"
     },
     "output_type": "display_data"
    }
   ],
   "source": [
    "plt.plot(epochs, acc, label=\"Training accuracy\")\n",
    "plt.plot(epochs, val_acc, label=\"Validation accuracy\")\n",
    "\n",
    "plt.title(\"Training and Validation accuracy\")\n",
    "plt.xlabel(\"Epochs\")\n",
    "plt.ylabel(\"Accuracy\")\n",
    "plt.legend()\n",
    "\n",
    "plt.show()"
   ]
  },
  {
   "cell_type": "markdown",
   "id": "0e448743",
   "metadata": {},
   "source": [
    "#### Observations\n",
    "\n",
    "- The model clearly seem to overfit after `4` epochs\n",
    "- We can see how to validation loss is increasing after each epoch\n",
    "- Since we have a comparatively small dataset we should avoid over complexity\n",
    "\n",
    "Let's train a new network from scratch for `4` epochs and then evaluate on test data"
   ]
  },
  {
   "cell_type": "markdown",
   "id": "b7cdb0a9",
   "metadata": {},
   "source": [
    "#### Retrain"
   ]
  },
  {
   "cell_type": "code",
   "execution_count": 166,
   "id": "d521f0b6",
   "metadata": {},
   "outputs": [
    {
     "name": "stdout",
     "output_type": "stream",
     "text": [
      "Epoch 1/4\n",
      "49/49 [==============================] - 1s 8ms/step - loss: 0.4807 - accuracy: 0.8083\n",
      "Epoch 2/4\n",
      "49/49 [==============================] - 0s 8ms/step - loss: 0.2753 - accuracy: 0.9055\n",
      "Epoch 3/4\n",
      "49/49 [==============================] - 0s 8ms/step - loss: 0.2119 - accuracy: 0.9242\n",
      "Epoch 4/4\n",
      "49/49 [==============================] - 0s 8ms/step - loss: 0.1733 - accuracy: 0.9394\n"
     ]
    }
   ],
   "source": [
    "model = models.Sequential()\n",
    "\n",
    "model.add(layers.Dense(16, activation=\"relu\", input_shape=(10000,)))\n",
    "model.add(layers.Dense(16, activation=\"relu\"))\n",
    "model.add(layers.Dense(1, activation=\"sigmoid\"))\n",
    "\n",
    "model.compile(optimizer=\"rmsprop\", loss=\"binary_crossentropy\", metrics=[\"accuracy\"])\n",
    "\n",
    "history = model.fit(x_train, y_train, epochs=4, batch_size=512)"
   ]
  },
  {
   "cell_type": "code",
   "execution_count": 172,
   "id": "d10148f0",
   "metadata": {},
   "outputs": [
    {
     "name": "stdout",
     "output_type": "stream",
     "text": [
      "782/782 [==============================] - 1s 884us/step - loss: 0.3080 - accuracy: 0.8785\n"
     ]
    }
   ],
   "source": [
    "test_loss, test_acc = model.evaluate(x_test, y_test)"
   ]
  },
  {
   "cell_type": "code",
   "execution_count": 176,
   "id": "95b29fd2",
   "metadata": {},
   "outputs": [
    {
     "name": "stdout",
     "output_type": "stream",
     "text": [
      "Test Loss: 30.80%\n",
      "Test Accuracy: 87.85%\n"
     ]
    }
   ],
   "source": [
    "print(f\"Test Loss: {test_loss*100:.2f}%\\nTest Accuracy: {test_acc*100:.2f}%\")"
   ]
  },
  {
   "cell_type": "markdown",
   "id": "4309d129",
   "metadata": {},
   "source": [
    "#### Predict"
   ]
  },
  {
   "cell_type": "code",
   "execution_count": 179,
   "id": "42253c28",
   "metadata": {},
   "outputs": [],
   "source": [
    "y_pred = model.predict(x_test)"
   ]
  },
  {
   "cell_type": "code",
   "execution_count": 208,
   "id": "7bc75442",
   "metadata": {},
   "outputs": [
    {
     "name": "stdout",
     "output_type": "stream",
     "text": [
      "Review\n",
      "\n",
      "the halloween was one us filmed br and decent to was two of everything was did that her get it most br don't numbers of guy it make his man forget must ever more interesting think quantum watch is background that out features are what have office have office that to make his just is plots support lives given most that thing low earlier making to of before best one though perhaps hands possibly different was two and decent it by br of and worth are greatest dated worth br make my make played most from giving her future have big also dvd of how my make mind in through those to dark they of because somewhat other from one her plot lewis make heart don't numbers that it i i to have well practically in of films other were her now to more before he otherwise or of mine in of and ran in of partners rat of ever it out heart was itself wonderful that in especially like tries in one is very my to zombies weaker film more whole as it itself of ever but any more it see by apparently for well picked and decent need\n",
      "\n",
      "Sentiment Actual: 1\n",
      "Sentiment Prediction Probability: 0.96\n"
     ]
    }
   ],
   "source": [
    "n = random.randint(0, 25000)\n",
    "review, sentiment, sentiment_pred = (\n",
    "    decode_review(test_data[n]),\n",
    "    test_labels[n],\n",
    "    y_pred[n][0],\n",
    ")\n",
    "print(\n",
    "    f\"Review\\n\\n{review}\\n\\nSentiment Actual: {sentiment}\\nSentiment Prediction Probability: {sentiment_pred:.2f}\"\n",
    ")"
   ]
  },
  {
   "cell_type": "code",
   "execution_count": 210,
   "id": "519c4792",
   "metadata": {},
   "outputs": [
    {
     "data": {
      "text/plain": [
       "6.6857916e-07"
      ]
     },
     "execution_count": 210,
     "metadata": {},
     "output_type": "execute_result"
    }
   ],
   "source": [
    "np.min(y_pred)"
   ]
  },
  {
   "cell_type": "code",
   "execution_count": 211,
   "id": "e91ebd29",
   "metadata": {},
   "outputs": [
    {
     "data": {
      "text/plain": [
       "1.0"
      ]
     },
     "execution_count": 211,
     "metadata": {},
     "output_type": "execute_result"
    }
   ],
   "source": [
    "np.max(y_pred)"
   ]
  }
 ],
 "metadata": {
  "kernelspec": {
   "display_name": "Python 3 (ipykernel)",
   "language": "python",
   "name": "python3"
  },
  "language_info": {
   "codemirror_mode": {
    "name": "ipython",
    "version": 3
   },
   "file_extension": ".py",
   "mimetype": "text/x-python",
   "name": "python",
   "nbconvert_exporter": "python",
   "pygments_lexer": "ipython3",
   "version": "3.9.2"
  },
  "toc": {
   "base_numbering": 1,
   "nav_menu": {},
   "number_sections": true,
   "sideBar": true,
   "skip_h1_title": false,
   "title_cell": "Table of Contents",
   "title_sidebar": "Contents",
   "toc_cell": false,
   "toc_position": {},
   "toc_section_display": true,
   "toc_window_display": false
  }
 },
 "nbformat": 4,
 "nbformat_minor": 5
}
