{
 "cells": [
  {
   "cell_type": "markdown",
   "id": "e5af159b",
   "metadata": {},
   "source": [
    "# Imdb Movie Reviews Classification"
   ]
  },
  {
   "cell_type": "markdown",
   "id": "a0aaea22",
   "metadata": {},
   "source": [
    "#### Notebook Configurations"
   ]
  },
  {
   "cell_type": "code",
   "execution_count": 1,
   "id": "35fb0f97",
   "metadata": {},
   "outputs": [
    {
     "data": {
      "text/html": [
       "<style>.container { width:100% !important; }</style>"
      ],
      "text/plain": [
       "<IPython.core.display.HTML object>"
      ]
     },
     "metadata": {},
     "output_type": "display_data"
    }
   ],
   "source": [
    "from IPython.display import display, HTML\n",
    "\n",
    "display(HTML(\"<style>.container { width:100% !important; }</style>\"))"
   ]
  },
  {
   "cell_type": "markdown",
   "id": "969f58b1",
   "metadata": {},
   "source": [
    "#### Library Imports"
   ]
  },
  {
   "cell_type": "code",
   "execution_count": 2,
   "id": "51020977",
   "metadata": {},
   "outputs": [],
   "source": [
    "import random\n",
    "import numpy as np\n",
    "import matplotlib.pyplot as plt\n",
    "\n",
    "from keras.datasets import imdb"
   ]
  },
  {
   "cell_type": "markdown",
   "id": "456215d3",
   "metadata": {},
   "source": [
    "### Load dataset"
   ]
  },
  {
   "cell_type": "code",
   "execution_count": 3,
   "id": "a7fc29e6",
   "metadata": {},
   "outputs": [],
   "source": [
    "(train_data, train_labels), (test_data, test_labels) = imdb.load_data(num_words=10000)"
   ]
  },
  {
   "cell_type": "markdown",
   "id": "e9b5d324",
   "metadata": {},
   "source": [
    "#### Decode any review"
   ]
  },
  {
   "cell_type": "code",
   "execution_count": 6,
   "id": "a31ed2f3",
   "metadata": {},
   "outputs": [],
   "source": [
    "word_index = imdb.get_word_index()\n",
    "\n",
    "reverse_word_index = {v: k for k, v in word_index.items()}\n",
    "\n",
    "\n",
    "def decode_review(review):\n",
    "    \"\"\"Convert a review from integers to words\"\"\"\n",
    "\n",
    "    return \" \".join(reverse_word_index.get(word) for word in review)"
   ]
  },
  {
   "cell_type": "code",
   "execution_count": 7,
   "id": "9bceebd0",
   "metadata": {},
   "outputs": [
    {
     "data": {
      "text/plain": [
       "'the effort still been that usually makes for of finished sucking ended and an because before if just though something know novel female i i slowly lot of above and with connect in of script their that out end his and i i'"
      ]
     },
     "execution_count": 7,
     "metadata": {},
     "output_type": "execute_result"
    }
   ],
   "source": [
    "decode_review(train_data[5])"
   ]
  },
  {
   "cell_type": "markdown",
   "id": "4577fb7c",
   "metadata": {},
   "source": [
    "#### Vectorize Data\n",
    "\n",
    "Out train and test data is an array of integers which we cannot feed to our neural network.\n",
    "So we need to convert the data to `tensors` which a neural network will understand.\n",
    "Let's OneHot encode our data so each datapoint has a fix width of `10000` with `1`'s in places where a common word exists and `0` otherwise."
   ]
  },
  {
   "cell_type": "code",
   "execution_count": 8,
   "id": "9c364643",
   "metadata": {},
   "outputs": [],
   "source": [
    "def vectorize_sequences(sequences, dimension=10000):\n",
    "    \"\"\"One Hot encodes the imdb data so integers are mapped to 0 and 1\"\"\"\n",
    "\n",
    "    results = np.zeros((len(sequences), dimension))\n",
    "\n",
    "    for i, sequence in enumerate(sequences):\n",
    "        results[i, sequence] = 1.0\n",
    "\n",
    "    return results"
   ]
  },
  {
   "cell_type": "code",
   "execution_count": 9,
   "id": "ff7d20ea",
   "metadata": {},
   "outputs": [],
   "source": [
    "x_train = vectorize_sequences(train_data)\n",
    "x_test = vectorize_sequences(test_data)"
   ]
  },
  {
   "cell_type": "code",
   "execution_count": 12,
   "id": "f91f12eb",
   "metadata": {},
   "outputs": [
    {
     "data": {
      "text/plain": [
       "(array([[0., 1., 1., ..., 0., 0., 0.],\n",
       "        [0., 1., 1., ..., 0., 0., 0.],\n",
       "        [0., 1., 1., ..., 0., 0., 0.],\n",
       "        ...,\n",
       "        [0., 1., 1., ..., 0., 0., 0.],\n",
       "        [0., 1., 1., ..., 0., 0., 0.],\n",
       "        [0., 1., 1., ..., 0., 0., 0.]]),\n",
       " array([[0., 1., 1., ..., 0., 0., 0.],\n",
       "        [0., 1., 1., ..., 0., 0., 0.],\n",
       "        [0., 1., 1., ..., 0., 0., 0.],\n",
       "        ...,\n",
       "        [0., 1., 1., ..., 0., 0., 0.],\n",
       "        [0., 1., 1., ..., 0., 0., 0.],\n",
       "        [0., 1., 1., ..., 0., 0., 0.]]))"
      ]
     },
     "execution_count": 12,
     "metadata": {},
     "output_type": "execute_result"
    }
   ],
   "source": [
    "x_train, x_test"
   ]
  },
  {
   "cell_type": "markdown",
   "id": "77e93d19",
   "metadata": {},
   "source": [
    "On a similar note out labels need to be vectorized as well"
   ]
  },
  {
   "cell_type": "code",
   "execution_count": 13,
   "id": "0370253c",
   "metadata": {},
   "outputs": [],
   "source": [
    "y_train = np.asarray(train_labels).astype(\"float32\")\n",
    "y_test = np.asarray(test_labels).astype(\"float32\")"
   ]
  },
  {
   "cell_type": "code",
   "execution_count": 14,
   "id": "8904452d",
   "metadata": {},
   "outputs": [
    {
     "data": {
      "text/plain": [
       "(array([1., 0., 0., ..., 0., 1., 0.], dtype=float32),\n",
       " array([0., 1., 1., ..., 0., 0., 0.], dtype=float32))"
      ]
     },
     "execution_count": 14,
     "metadata": {},
     "output_type": "execute_result"
    }
   ],
   "source": [
    "y_train, y_test"
   ]
  },
  {
   "cell_type": "markdown",
   "id": "a2c0210a",
   "metadata": {},
   "source": [
    "#### Model Definition\n",
    "\n",
    "We have inputs as vectors and labels as `scalars.` \n",
    "- The type of network that works best for such type of problems is a simple stack of fully connected `(dense)` layers with `relu` activations. \n",
    "\n",
    "Let's use \n",
    "- two intermediate layers with `16 hidden units` each having `relu` activation\n",
    "- a third layer that will output a `scalar` prediction having `sigmoid` activation"
   ]
  },
  {
   "cell_type": "code",
   "execution_count": 15,
   "id": "fbacd0b4",
   "metadata": {},
   "outputs": [],
   "source": [
    "from keras import models\n",
    "from keras import layers"
   ]
  },
  {
   "cell_type": "markdown",
   "id": "ac572ec6",
   "metadata": {},
   "source": [
    "#### Build model architecture"
   ]
  },
  {
   "cell_type": "code",
   "execution_count": 17,
   "id": "19cd3f04",
   "metadata": {},
   "outputs": [],
   "source": [
    "model = models.Sequential()\n",
    "model.add(layers.Dense(16, activation=\"relu\", input_shape=(10000,)))\n",
    "model.add(layers.Dense(16, activation=\"relu\"))\n",
    "model.add(layers.Dense(1, activation=\"sigmoid\"))"
   ]
  },
  {
   "cell_type": "markdown",
   "id": "3372080f",
   "metadata": {},
   "source": [
    "#### Compiling the Model"
   ]
  },
  {
   "cell_type": "code",
   "execution_count": 18,
   "id": "7959e9aa",
   "metadata": {},
   "outputs": [],
   "source": [
    "model.compile(optimizer=\"rmsprop\", loss=\"binary_crossentropy\", metrics=[\"accuracy\"])"
   ]
  },
  {
   "cell_type": "markdown",
   "id": "eb1fa003",
   "metadata": {},
   "source": [
    "#### Validation\n",
    "\n",
    "Let's create a validation set by setting apart `10000` samples from the original training data"
   ]
  },
  {
   "cell_type": "code",
   "execution_count": 19,
   "id": "4c43c2c3",
   "metadata": {},
   "outputs": [],
   "source": [
    "x_val, y_val = x_train[:10000], y_train[:10000]\n",
    "\n",
    "partial_x_train, partial_y_train = x_train[10000:], y_train[10000:]"
   ]
  },
  {
   "cell_type": "markdown",
   "id": "b05e16e6",
   "metadata": {},
   "source": [
    "#### Train"
   ]
  },
  {
   "cell_type": "code",
   "execution_count": 20,
   "id": "2dec1ba4",
   "metadata": {},
   "outputs": [
    {
     "name": "stdout",
     "output_type": "stream",
     "text": [
      "Epoch 1/20\n",
      "30/30 [==============================] - 2s 44ms/step - loss: 0.5047 - accuracy: 0.7874 - val_loss: 0.3778 - val_accuracy: 0.8754\n",
      "Epoch 2/20\n",
      "30/30 [==============================] - 0s 16ms/step - loss: 0.3032 - accuracy: 0.9045 - val_loss: 0.3366 - val_accuracy: 0.8668\n",
      "Epoch 3/20\n",
      "30/30 [==============================] - 0s 13ms/step - loss: 0.2225 - accuracy: 0.9299 - val_loss: 0.2850 - val_accuracy: 0.8855\n",
      "Epoch 4/20\n",
      "30/30 [==============================] - 0s 13ms/step - loss: 0.1770 - accuracy: 0.9434 - val_loss: 0.2752 - val_accuracy: 0.8897\n",
      "Epoch 5/20\n",
      "30/30 [==============================] - 0s 13ms/step - loss: 0.1431 - accuracy: 0.9551 - val_loss: 0.2777 - val_accuracy: 0.8890\n",
      "Epoch 6/20\n",
      "30/30 [==============================] - 0s 13ms/step - loss: 0.1189 - accuracy: 0.9637 - val_loss: 0.2960 - val_accuracy: 0.8869\n",
      "Epoch 7/20\n",
      "30/30 [==============================] - 0s 14ms/step - loss: 0.0959 - accuracy: 0.9725 - val_loss: 0.3100 - val_accuracy: 0.8854\n",
      "Epoch 8/20\n",
      "30/30 [==============================] - 0s 14ms/step - loss: 0.0783 - accuracy: 0.9795 - val_loss: 0.3809 - val_accuracy: 0.8703\n",
      "Epoch 9/20\n",
      "30/30 [==============================] - 0s 13ms/step - loss: 0.0657 - accuracy: 0.9834 - val_loss: 0.3494 - val_accuracy: 0.8790\n",
      "Epoch 10/20\n",
      "30/30 [==============================] - 0s 14ms/step - loss: 0.0524 - accuracy: 0.9869 - val_loss: 0.3750 - val_accuracy: 0.8796\n",
      "Epoch 11/20\n",
      "30/30 [==============================] - 0s 13ms/step - loss: 0.0432 - accuracy: 0.9911 - val_loss: 0.4013 - val_accuracy: 0.8766\n",
      "Epoch 12/20\n",
      "30/30 [==============================] - 0s 14ms/step - loss: 0.0336 - accuracy: 0.9929 - val_loss: 0.4292 - val_accuracy: 0.8760\n",
      "Epoch 13/20\n",
      "30/30 [==============================] - 0s 13ms/step - loss: 0.0284 - accuracy: 0.9935 - val_loss: 0.4611 - val_accuracy: 0.8743\n",
      "Epoch 14/20\n",
      "30/30 [==============================] - 0s 14ms/step - loss: 0.0194 - accuracy: 0.9970 - val_loss: 0.4944 - val_accuracy: 0.8749\n",
      "Epoch 15/20\n",
      "30/30 [==============================] - 0s 13ms/step - loss: 0.0177 - accuracy: 0.9971 - val_loss: 0.5204 - val_accuracy: 0.8727\n",
      "Epoch 16/20\n",
      "30/30 [==============================] - 0s 13ms/step - loss: 0.0135 - accuracy: 0.9981 - val_loss: 0.5610 - val_accuracy: 0.8692\n",
      "Epoch 17/20\n",
      "30/30 [==============================] - 0s 13ms/step - loss: 0.0078 - accuracy: 0.9997 - val_loss: 0.5896 - val_accuracy: 0.8708\n",
      "Epoch 18/20\n",
      "30/30 [==============================] - 0s 14ms/step - loss: 0.0094 - accuracy: 0.9986 - val_loss: 0.6195 - val_accuracy: 0.8708\n",
      "Epoch 19/20\n",
      "30/30 [==============================] - 0s 13ms/step - loss: 0.0043 - accuracy: 0.9999 - val_loss: 0.6582 - val_accuracy: 0.8695\n",
      "Epoch 20/20\n",
      "30/30 [==============================] - 0s 14ms/step - loss: 0.0053 - accuracy: 0.9990 - val_loss: 0.6877 - val_accuracy: 0.8685\n"
     ]
    }
   ],
   "source": [
    "history = model.fit(\n",
    "    x=partial_x_train,\n",
    "    y=partial_y_train,\n",
    "    epochs=20,\n",
    "    batch_size=512,\n",
    "    validation_data=(x_val, y_val),\n",
    ")"
   ]
  },
  {
   "cell_type": "markdown",
   "id": "d5190c87",
   "metadata": {},
   "source": [
    "#### Plot training and validation loss"
   ]
  },
  {
   "cell_type": "code",
   "execution_count": 21,
   "id": "41c1eb25",
   "metadata": {},
   "outputs": [],
   "source": [
    "history_dict = history.history\n",
    "\n",
    "acc = history_dict[\"accuracy\"]\n",
    "val_acc = history_dict[\"val_accuracy\"]\n",
    "\n",
    "loss_values = history_dict[\"loss\"]\n",
    "val_loss_values = history_dict[\"val_loss\"]\n",
    "\n",
    "epochs = range(1, len(acc) + 1)"
   ]
  },
  {
   "cell_type": "code",
   "execution_count": 22,
   "id": "6c08acca",
   "metadata": {},
   "outputs": [
    {
     "data": {
      "image/png": "[encoded data removed]",
      "text/plain": [
       "<Figure size 432x288 with 1 Axes>"
      ]
     },
     "metadata": {
      "needs_background": "light"
     },
     "output_type": "display_data"
    }
   ],
   "source": [
    "plt.plot(epochs, loss_values, label=\"Training loss\")\n",
    "plt.plot(epochs, val_loss_values, label=\"Validation loss\")\n",
    "\n",
    "plt.title(\"Training and Validation loss\")\n",
    "plt.xlabel(\"Epochs\")\n",
    "plt.ylabel(\"Loss\")\n",
    "plt.legend()\n",
    "\n",
    "plt.show()"
   ]
  },
  {
   "cell_type": "markdown",
   "id": "ae3b7ab3",
   "metadata": {},
   "source": [
    "#### Plot Training Vs Validation Accuracy"
   ]
  },
  {
   "cell_type": "code",
   "execution_count": 23,
   "id": "966251c0",
   "metadata": {},
   "outputs": [
    {
     "data": {
      "image/png": "[encoded data removed]",
      "text/plain": [
       "<Figure size 432x288 with 1 Axes>"
      ]
     },
     "metadata": {
      "needs_background": "light"
     },
     "output_type": "display_data"
    }
   ],
   "source": [
    "plt.plot(epochs, acc, label=\"Training accuracy\")\n",
    "plt.plot(epochs, val_acc, label=\"Validation accuracy\")\n",
    "\n",
    "plt.title(\"Training and Validation accuracy\")\n",
    "plt.xlabel(\"Epochs\")\n",
    "plt.ylabel(\"Accuracy\")\n",
    "plt.legend()\n",
    "\n",
    "plt.show()"
   ]
  },
  {
   "cell_type": "markdown",
   "id": "0e448743",
   "metadata": {},
   "source": [
    "#### Observations\n",
    "\n",
    "- The model clearly seem to overfit after `4` epochs\n",
    "- We can see how to validation loss is increasing after each epoch\n",
    "- Since we have a comparatively small dataset we should avoid over complexity\n",
    "\n",
    "Let's train a new network from scratch for `4` epochs and then evaluate on test data"
   ]
  },
  {
   "cell_type": "markdown",
   "id": "b7cdb0a9",
   "metadata": {},
   "source": [
    "#### Retrain"
   ]
  },
  {
   "cell_type": "code",
   "execution_count": 58,
   "id": "d521f0b6",
   "metadata": {},
   "outputs": [
    {
     "name": "stdout",
     "output_type": "stream",
     "text": [
      "Epoch 1/4\n",
      "49/49 [==============================] - 1s 11ms/step - loss: 0.4408 - accuracy: 0.8306\n",
      "Epoch 2/4\n",
      "49/49 [==============================] - 0s 8ms/step - loss: 0.2544 - accuracy: 0.9098\n",
      "Epoch 3/4\n",
      "49/49 [==============================] - 0s 8ms/step - loss: 0.1968 - accuracy: 0.9292\n",
      "Epoch 4/4\n",
      "49/49 [==============================] - 0s 8ms/step - loss: 0.1644 - accuracy: 0.9416\n"
     ]
    }
   ],
   "source": [
    "model = models.Sequential()\n",
    "\n",
    "model.add(layers.Dense(16, activation=\"relu\", input_shape=(10000,)))\n",
    "model.add(layers.Dense(16, activation=\"relu\"))\n",
    "model.add(layers.Dense(1, activation=\"sigmoid\"))\n",
    "\n",
    "model.compile(optimizer=\"rmsprop\", loss=\"binary_crossentropy\", metrics=[\"accuracy\"])\n",
    "\n",
    "history = model.fit(x_train, y_train, epochs=4, batch_size=512)"
   ]
  },
  {
   "cell_type": "code",
   "execution_count": 25,
   "id": "d10148f0",
   "metadata": {},
   "outputs": [
    {
     "name": "stdout",
     "output_type": "stream",
     "text": [
      "782/782 [==============================] - 1s 1ms/step - loss: 0.3000 - accuracy: 0.8810\n"
     ]
    }
   ],
   "source": [
    "test_loss, test_acc = model.evaluate(x_test, y_test)"
   ]
  },
  {
   "cell_type": "code",
   "execution_count": 26,
   "id": "95b29fd2",
   "metadata": {},
   "outputs": [
    {
     "name": "stdout",
     "output_type": "stream",
     "text": [
      "Test Loss: 30.00%\n",
      "Test Accuracy: 88.10%\n"
     ]
    }
   ],
   "source": [
    "print(f\"Test Loss: {test_loss*100:.2f}%\\nTest Accuracy: {test_acc*100:.2f}%\")"
   ]
  },
  {
   "cell_type": "markdown",
   "id": "ac78a8db",
   "metadata": {},
   "source": [
    "#### Observation\n",
    "\n",
    "- So we are able to achieve an accuracy of `88%` with this simple technique. \n",
    "- Remember each review in our original dataset just has the top `10000` words in it.\n",
    "- Now let's do the predictions on the entire test dataset and show a random review with its `actual` and `predicted` sentiment"
   ]
  },
  {
   "cell_type": "markdown",
   "id": "4309d129",
   "metadata": {},
   "source": [
    "#### Predict"
   ]
  },
  {
   "cell_type": "code",
   "execution_count": 29,
   "id": "42253c28",
   "metadata": {},
   "outputs": [],
   "source": [
    "y_pred = model.predict(x_test)"
   ]
  },
  {
   "cell_type": "code",
   "execution_count": 31,
   "id": "7bc75442",
   "metadata": {},
   "outputs": [
    {
     "name": "stdout",
     "output_type": "stream",
     "text": [
      "Review\n",
      "\n",
      "the such mother such off from one in classic to could is ' in by br of suspense battle characters br an my of on it is manner beings are us happy to real one best will way unoriginal and pointless br pg ill it so show of try lasts br be e and movie pg ill other of ill being it his done that's in tears so problem on which ten ladies raines pocket rent after his agency as caruso br performers film's wonder people his hope man my are as learn out character of i've cast\n",
      "\n",
      "Sentiment Actual: 0\n",
      "Sentiment Prediction Probability: 0.01\n"
     ]
    }
   ],
   "source": [
    "n = random.randint(0, 25000)\n",
    "review, sentiment, sentiment_pred = (\n",
    "    decode_review(test_data[n]),\n",
    "    test_labels[n],\n",
    "    y_pred[n][0],\n",
    ")\n",
    "print(\n",
    "    f\"Review\\n\\n{review}\\n\\nSentiment Actual: {sentiment}\\nSentiment Prediction Probability: {sentiment_pred:.2f}\"\n",
    ")"
   ]
  },
  {
   "cell_type": "markdown",
   "id": "9d700cee",
   "metadata": {},
   "source": [
    "### Further experimentation\n",
    "\n",
    "We try a model with `three` hidden layers"
   ]
  },
  {
   "cell_type": "code",
   "execution_count": 146,
   "id": "7764c976",
   "metadata": {},
   "outputs": [
    {
     "name": "stdout",
     "output_type": "stream",
     "text": [
      "Epoch 1/15\n",
      "30/30 [==============================] - 1s 33ms/step - loss: 0.5026 - accuracy: 0.7895 - val_loss: 0.3826 - val_accuracy: 0.8706\n",
      "Epoch 2/15\n",
      "30/30 [==============================] - 0s 14ms/step - loss: 0.3041 - accuracy: 0.9057 - val_loss: 0.3037 - val_accuracy: 0.8882\n",
      "Epoch 3/15\n",
      "30/30 [==============================] - 0s 13ms/step - loss: 0.2222 - accuracy: 0.9310 - val_loss: 0.2862 - val_accuracy: 0.8845\n",
      "Epoch 4/15\n",
      "30/30 [==============================] - 0s 13ms/step - loss: 0.1672 - accuracy: 0.9493 - val_loss: 0.2755 - val_accuracy: 0.8868\n",
      "Epoch 5/15\n",
      "30/30 [==============================] - 0s 13ms/step - loss: 0.1334 - accuracy: 0.9599 - val_loss: 0.2813 - val_accuracy: 0.8880\n",
      "Epoch 6/15\n",
      "30/30 [==============================] - 0s 13ms/step - loss: 0.1085 - accuracy: 0.9665 - val_loss: 0.3356 - val_accuracy: 0.8795\n",
      "Epoch 7/15\n",
      "30/30 [==============================] - 0s 13ms/step - loss: 0.0862 - accuracy: 0.9748 - val_loss: 0.3271 - val_accuracy: 0.8777\n",
      "Epoch 8/15\n",
      "30/30 [==============================] - 0s 13ms/step - loss: 0.0685 - accuracy: 0.9813 - val_loss: 0.3600 - val_accuracy: 0.8720\n",
      "Epoch 9/15\n",
      "30/30 [==============================] - 0s 13ms/step - loss: 0.0543 - accuracy: 0.9865 - val_loss: 0.4090 - val_accuracy: 0.8756\n",
      "Epoch 10/15\n",
      "30/30 [==============================] - 0s 13ms/step - loss: 0.0439 - accuracy: 0.9889 - val_loss: 0.4223 - val_accuracy: 0.8752\n",
      "Epoch 11/15\n",
      "30/30 [==============================] - 0s 13ms/step - loss: 0.0363 - accuracy: 0.9910 - val_loss: 0.4557 - val_accuracy: 0.8671\n",
      "Epoch 12/15\n",
      "30/30 [==============================] - 0s 13ms/step - loss: 0.0306 - accuracy: 0.9921 - val_loss: 0.4880 - val_accuracy: 0.8669\n",
      "Epoch 13/15\n",
      "30/30 [==============================] - 0s 13ms/step - loss: 0.0164 - accuracy: 0.9979 - val_loss: 0.5791 - val_accuracy: 0.8485\n",
      "Epoch 14/15\n",
      "30/30 [==============================] - 0s 13ms/step - loss: 0.0157 - accuracy: 0.9973 - val_loss: 0.6068 - val_accuracy: 0.8490\n",
      "Epoch 15/15\n",
      "30/30 [==============================] - 0s 13ms/step - loss: 0.0142 - accuracy: 0.9969 - val_loss: 0.6023 - val_accuracy: 0.8639\n"
     ]
    }
   ],
   "source": [
    "model = models.Sequential()\n",
    "\n",
    "model.add(layers.Dense(16, activation=\"tanh\", input_shape=(10000,)))\n",
    "model.add(layers.Dense(16, activation=\"relu\"))\n",
    "model.add(layers.Dense(1, activation=\"sigmoid\"))\n",
    "\n",
    "model.compile(optimizer=\"rmsprop\", loss=\"binary_crossentropy\", metrics=[\"accuracy\"])\n",
    "\n",
    "history = model.fit(\n",
    "    partial_x_train,\n",
    "    partial_y_train,\n",
    "    epochs=15,\n",
    "    batch_size=512,\n",
    "    validation_data=(x_val, y_val),\n",
    ")"
   ]
  },
  {
   "cell_type": "code",
   "execution_count": 147,
   "id": "690aeed8",
   "metadata": {},
   "outputs": [],
   "source": [
    "d = history.history\n",
    "loss, accuracy, val_loss, val_accuracy = (\n",
    "    d[\"loss\"],\n",
    "    d[\"accuracy\"],\n",
    "    d[\"val_loss\"],\n",
    "    d[\"val_accuracy\"],\n",
    ")\n",
    "epochs = range(1, len(loss) + 1)"
   ]
  },
  {
   "cell_type": "code",
   "execution_count": 148,
   "id": "0c0e9c8b",
   "metadata": {},
   "outputs": [
    {
     "data": {
      "image/png": "[encoded data removed]",
      "text/plain": [
       "<Figure size 432x288 with 1 Axes>"
      ]
     },
     "metadata": {
      "needs_background": "light"
     },
     "output_type": "display_data"
    }
   ],
   "source": [
    "plt.plot(epochs, loss, label=\"Training Loss\")\n",
    "plt.plot(epochs, val_loss, label=\"Validation Loss\")\n",
    "\n",
    "plt.xlabel(\"Epochs\")\n",
    "plt.ylabel(\"Loss\")\n",
    "plt.title(\"Training Loss Vs Validation Loss\")\n",
    "plt.legend()\n",
    "\n",
    "plt.show()"
   ]
  },
  {
   "cell_type": "code",
   "execution_count": 149,
   "id": "abf51ad6",
   "metadata": {},
   "outputs": [
    {
     "data": {
      "image/png": "[encoded data removed]",
      "text/plain": [
       "<Figure size 432x288 with 1 Axes>"
      ]
     },
     "metadata": {
      "needs_background": "light"
     },
     "output_type": "display_data"
    }
   ],
   "source": [
    "plt.plot(epochs, accuracy, label=\"Training Accuracy\")\n",
    "plt.plot(epochs, val_accuracy, label=\"Validation Accuracy\")\n",
    "\n",
    "plt.xlabel(\"Epochs\")\n",
    "plt.ylabel(\"Accuracy\")\n",
    "plt.title(\"Training Accuracy Vs Validation Accuracy\")\n",
    "plt.legend()\n",
    "\n",
    "plt.show()"
   ]
  },
  {
   "cell_type": "code",
   "execution_count": 62,
   "id": "794413a2",
   "metadata": {},
   "outputs": [
    {
     "name": "stdout",
     "output_type": "stream",
     "text": [
      "782/782 [==============================] - 1s 877us/step - loss: 0.5277 - accuracy: 0.8511\n",
      "\n",
      "test loss    :  52.77%\n",
      "test accuracy:  85.11%\n",
      "\n"
     ]
    }
   ],
   "source": [
    "test_loss, test_acc = model.evaluate(x_test, y_test)\n",
    "\n",
    "print(\n",
    "    f\"\"\"\n",
    "test loss    :  {test_loss*100:.2f}%\n",
    "test accuracy:  {test_acc*100:.2f}%\n",
    "\"\"\"\n",
    ")"
   ]
  },
  {
   "cell_type": "markdown",
   "id": "fc3b971f",
   "metadata": {},
   "source": [
    "### The End"
   ]
  }
 ],
 "metadata": {
  "kernelspec": {
   "display_name": "Python 3 (ipykernel)",
   "language": "python",
   "name": "python3"
  },
  "language_info": {
   "codemirror_mode": {
    "name": "ipython",
    "version": 3
   },
   "file_extension": ".py",
   "mimetype": "text/x-python",
   "name": "python",
   "nbconvert_exporter": "python",
   "pygments_lexer": "ipython3",
   "version": "3.9.2"
  },
  "toc": {
   "base_numbering": 1,
   "nav_menu": {},
   "number_sections": true,
   "sideBar": true,
   "skip_h1_title": false,
   "title_cell": "Table of Contents",
   "title_sidebar": "Contents",
   "toc_cell": false,
   "toc_position": {},
   "toc_section_display": true,
   "toc_window_display": false
  }
 },
 "nbformat": 4,
 "nbformat_minor": 5
}
